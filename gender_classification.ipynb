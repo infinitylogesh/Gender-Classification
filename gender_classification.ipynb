{
 "cells": [
  {
   "cell_type": "code",
   "execution_count": 1,
   "metadata": {
    "collapsed": true
   },
   "outputs": [],
   "source": [
    "import pandas as pd\n",
    "import numpy as np\n",
    "import matplotlib.pyplot as plt\n",
    "from sklearn.ensemble import ExtraTreesClassifier\n",
    "from sklearn.ensemble import RandomForestClassifier\n",
    "from sklearn.model_selection import train_test_split\n",
    "from sklearn.metrics import accuracy_score,classification_report\n",
    "from sklearn.naive_bayes import GaussianNB\n",
    "from sklearn.linear_model import LogisticRegression\n",
    "from sklearn.ensemble import VotingClassifier"
   ]
  },
  {
   "cell_type": "code",
   "execution_count": 7,
   "metadata": {},
   "outputs": [
    {
     "data": {
      "text/html": [
       "<div>\n",
       "<style>\n",
       "    .dataframe thead tr:only-child th {\n",
       "        text-align: right;\n",
       "    }\n",
       "\n",
       "    .dataframe thead th {\n",
       "        text-align: left;\n",
       "    }\n",
       "\n",
       "    .dataframe tbody tr th {\n",
       "        vertical-align: top;\n",
       "    }\n",
       "</style>\n",
       "<table border=\"1\" class=\"dataframe\">\n",
       "  <thead>\n",
       "    <tr style=\"text-align: right;\">\n",
       "      <th></th>\n",
       "      <th>gender</th>\n",
       "      <th>ageYear</th>\n",
       "      <th>ageMonth</th>\n",
       "      <th>HeightIn</th>\n",
       "      <th>WeightLB</th>\n",
       "    </tr>\n",
       "  </thead>\n",
       "  <tbody>\n",
       "    <tr>\n",
       "      <th>0</th>\n",
       "      <td>f</td>\n",
       "      <td>11.91667</td>\n",
       "      <td>143</td>\n",
       "      <td>56.3</td>\n",
       "      <td>85.0</td>\n",
       "    </tr>\n",
       "    <tr>\n",
       "      <th>1</th>\n",
       "      <td>f</td>\n",
       "      <td>12.91667</td>\n",
       "      <td>155</td>\n",
       "      <td>62.3</td>\n",
       "      <td>105.0</td>\n",
       "    </tr>\n",
       "    <tr>\n",
       "      <th>2</th>\n",
       "      <td>f</td>\n",
       "      <td>12.75000</td>\n",
       "      <td>153</td>\n",
       "      <td>63.3</td>\n",
       "      <td>108.0</td>\n",
       "    </tr>\n",
       "    <tr>\n",
       "      <th>3</th>\n",
       "      <td>f</td>\n",
       "      <td>13.41667</td>\n",
       "      <td>161</td>\n",
       "      <td>59.0</td>\n",
       "      <td>92.0</td>\n",
       "    </tr>\n",
       "    <tr>\n",
       "      <th>4</th>\n",
       "      <td>f</td>\n",
       "      <td>15.91667</td>\n",
       "      <td>191</td>\n",
       "      <td>62.5</td>\n",
       "      <td>112.5</td>\n",
       "    </tr>\n",
       "    <tr>\n",
       "      <th>5</th>\n",
       "      <td>f</td>\n",
       "      <td>14.25000</td>\n",
       "      <td>171</td>\n",
       "      <td>62.5</td>\n",
       "      <td>112.0</td>\n",
       "    </tr>\n",
       "    <tr>\n",
       "      <th>6</th>\n",
       "      <td>f</td>\n",
       "      <td>15.41667</td>\n",
       "      <td>185</td>\n",
       "      <td>59.0</td>\n",
       "      <td>104.0</td>\n",
       "    </tr>\n",
       "    <tr>\n",
       "      <th>7</th>\n",
       "      <td>f</td>\n",
       "      <td>11.83333</td>\n",
       "      <td>142</td>\n",
       "      <td>56.5</td>\n",
       "      <td>69.0</td>\n",
       "    </tr>\n",
       "    <tr>\n",
       "      <th>8</th>\n",
       "      <td>f</td>\n",
       "      <td>13.33333</td>\n",
       "      <td>160</td>\n",
       "      <td>62.0</td>\n",
       "      <td>94.5</td>\n",
       "    </tr>\n",
       "    <tr>\n",
       "      <th>9</th>\n",
       "      <td>f</td>\n",
       "      <td>11.66667</td>\n",
       "      <td>140</td>\n",
       "      <td>53.8</td>\n",
       "      <td>68.5</td>\n",
       "    </tr>\n",
       "  </tbody>\n",
       "</table>\n",
       "</div>"
      ],
      "text/plain": [
       "  gender   ageYear  ageMonth  HeightIn  WeightLB\n",
       "0      f  11.91667       143      56.3      85.0\n",
       "1      f  12.91667       155      62.3     105.0\n",
       "2      f  12.75000       153      63.3     108.0\n",
       "3      f  13.41667       161      59.0      92.0\n",
       "4      f  15.91667       191      62.5     112.5\n",
       "5      f  14.25000       171      62.5     112.0\n",
       "6      f  15.41667       185      59.0     104.0\n",
       "7      f  11.83333       142      56.5      69.0\n",
       "8      f  13.33333       160      62.0      94.5\n",
       "9      f  11.66667       140      53.8      68.5"
      ]
     },
     "execution_count": 7,
     "metadata": {},
     "output_type": "execute_result"
    }
   ],
   "source": [
    "# Dataset is converted to pandas dataframe\n",
    "dataset = pd.read_csv(\"95596180-c0da-43ef-b2b3-7172488a1cb0.csv\")\n",
    "dataset[0:10]"
   ]
  },
  {
   "cell_type": "code",
   "execution_count": 8,
   "metadata": {},
   "outputs": [
    {
     "data": {
      "image/png": "[encoded data removed]",
      "text/plain": [
       "<matplotlib.figure.Figure at 0x10d534490>"
      ]
     },
     "metadata": {},
     "output_type": "display_data"
    }
   ],
   "source": [
    "#Feature Selection - \n",
    "# Using decision trees the features which contribute better for the classification is chosen.\n",
    "# Intuitively, Age as a feature may not be usuful in classfying gender. And features ageYear and ageMonth are corelated.\n",
    "# Result of the decision tree feature importance reflects the intuition above.\n",
    "\n",
    "raw_dataset = dataset.values\n",
    "X = raw_dataset[:,1:5]\n",
    "Y = raw_dataset[:,0]\n",
    "\n",
    "model = ExtraTreesClassifier()\n",
    "model.fit(X, Y)\n",
    "x = np.arange(4)\n",
    "plt.bar(x, height= model.feature_importances_)\n",
    "plt.title('Feature importance')\n",
    "plt.xticks(x, ['ageYear','ageMonth','HeightIn','WeightLB']);\n",
    "plt.show()"
   ]
  },
  {
   "cell_type": "code",
   "execution_count": 9,
   "metadata": {},
   "outputs": [
    {
     "data": {
      "image/png": "[encoded data removed]",
      "text/plain": [
       "<matplotlib.figure.Figure at 0x10d528a90>"
      ]
     },
     "metadata": {},
     "output_type": "display_data"
    }
   ],
   "source": [
    "# After choosing the features, Features are plotted for visualization of the distribution.\n",
    "# Visualization inference : There do not seem to be a concrete decision boundary possible for the visualization.\n",
    "# So, It will not be possible to make a decisive classification with these available features.\n",
    "# Any additional features (non co-related) might help.\n",
    "\n",
    "colors = ('red','green')\n",
    "dataset['color'] = np.where(dataset['gender']=='f', 'green', 'red')\n",
    "plt.scatter(x=dataset[\"HeightIn\"],y=dataset[\"WeightLB\"],c=dataset['color'],label=dataset[\"gender\"])\n",
    "plt.title('Scatter plot - Gender classification')\n",
    "plt.xlabel('Height (In)')\n",
    "plt.ylabel('Weight (LB)')\n",
    "plt.show()"
   ]
  },
  {
   "cell_type": "code",
   "execution_count": 10,
   "metadata": {
    "collapsed": true
   },
   "outputs": [],
   "source": [
    "# Features are scaled.\n",
    "\n",
    "dataset[\"HeightIn\"] = dataset[\"HeightIn\"]/dataset[\"HeightIn\"].max()\n",
    "dataset[\"WeightLB\"] = dataset[\"WeightLB\"]/dataset[\"WeightLB\"].max()"
   ]
  },
  {
   "cell_type": "code",
   "execution_count": 11,
   "metadata": {
    "collapsed": true
   },
   "outputs": [],
   "source": [
    "# custom function to train,test a classifier. Prints the classification report and accuracy.\n",
    "\n",
    "def classify(model,x_train,y_train,x_test,y_test):\n",
    "    model.fit(X_train,y_train)\n",
    "    Y_predicted = model.predict(X_test)\n",
    "    print \"Accuracy :\",accuracy_score(y_test,Y_predicted)\n",
    "    print \"\\nClassification Report:\"\n",
    "    print classification_report(y_test,Y_predicted)\n",
    "    return model"
   ]
  },
  {
   "cell_type": "code",
   "execution_count": 12,
   "metadata": {
    "collapsed": true
   },
   "outputs": [],
   "source": [
    "# Dataset split - 70/30\n",
    "\n",
    "trainset,testset = train_test_split(raw_dataset,test_size=0.3,random_state=42)\n",
    "X_train = trainset[:,3:5]\n",
    "y_train = trainset[:,0]\n",
    "X_test = testset[:,3:5]\n",
    "y_test = testset[:,0]"
   ]
  },
  {
   "cell_type": "code",
   "execution_count": 13,
   "metadata": {},
   "outputs": [
    {
     "name": "stdout",
     "output_type": "stream",
     "text": [
      "Accuracy : 0.625\n",
      "\n",
      "Classification Report:\n",
      "             precision    recall  f1-score   support\n",
      "\n",
      "          f       0.56      0.65      0.60        31\n",
      "          m       0.69      0.61      0.65        41\n",
      "\n",
      "avg / total       0.63      0.62      0.63        72\n",
      "\n"
     ]
    }
   ],
   "source": [
    "#  Random forest\n",
    "model_1 = RandomForestClassifier(n_estimators=12,random_state=42)\n",
    "rf_model = classify(model_1,X_train,y_train,X_test,y_test)"
   ]
  },
  {
   "cell_type": "code",
   "execution_count": 14,
   "metadata": {
    "scrolled": true
   },
   "outputs": [
    {
     "name": "stdout",
     "output_type": "stream",
     "text": [
      "Accuracy : 0.513888888889\n",
      "\n",
      "Classification Report:\n",
      "             precision    recall  f1-score   support\n",
      "\n",
      "          f       0.40      0.26      0.31        31\n",
      "          m       0.56      0.71      0.62        41\n",
      "\n",
      "avg / total       0.49      0.51      0.49        72\n",
      "\n"
     ]
    }
   ],
   "source": [
    "# Logistic regression\n",
    "model_2 = LogisticRegression(max_iter=100,class_weight='balanced')\n",
    "lr_model = classify(model_2,X_train,y_train,X_test,y_test)"
   ]
  },
  {
   "cell_type": "code",
   "execution_count": 15,
   "metadata": {},
   "outputs": [
    {
     "name": "stdout",
     "output_type": "stream",
     "text": [
      "Accuracy : 0.527777777778\n",
      "\n",
      "Classification Report:\n",
      "             precision    recall  f1-score   support\n",
      "\n",
      "          f       0.45      0.45      0.45        31\n",
      "          m       0.59      0.59      0.59        41\n",
      "\n",
      "avg / total       0.53      0.53      0.53        72\n",
      "\n"
     ]
    }
   ],
   "source": [
    "#  Gaussian Naive Bayes.\n",
    "model_3 = GaussianNB()\n",
    "nb_model = classify(model_3,X_train,y_train,X_test,y_test)"
   ]
  },
  {
   "cell_type": "code",
   "execution_count": 19,
   "metadata": {},
   "outputs": [
    {
     "name": "stdout",
     "output_type": "stream",
     "text": [
      "Accuracy : 0.555555555556\n",
      "\n",
      "Classification Report:\n",
      "             precision    recall  f1-score   support\n",
      "\n",
      "          f       0.48      0.42      0.45        31\n",
      "          m       0.60      0.66      0.63        41\n",
      "\n",
      "avg / total       0.55      0.56      0.55        72\n",
      "\n"
     ]
    }
   ],
   "source": [
    "# Ensemble - Voting\n",
    "clf = VotingClassifier(estimators=[('rf', model_1), ('lr', model_2), ('gnb', model_3)], voting='hard')\n",
    "ensemble = classify(clf,X_train,y_train,X_test,y_test)"
   ]
  },
  {
   "cell_type": "code",
   "execution_count": 17,
   "metadata": {},
   "outputs": [
    {
     "data": {
      "text/plain": [
       "['rf_gender_classification.pkl']"
      ]
     },
     "execution_count": 17,
     "metadata": {},
     "output_type": "execute_result"
    }
   ],
   "source": [
    "from sklearn.externals import joblib\n",
    "joblib.dump(rf_model,\"rf_gender_classification.pkl\")"
   ]
  }
 ],
 "metadata": {
  "kernelspec": {
   "display_name": "Python 2",
   "language": "python",
   "name": "python2"
  },
  "language_info": {
   "codemirror_mode": {
    "name": "ipython",
    "version": 2
   },
   "file_extension": ".py",
   "mimetype": "text/x-python",
   "name": "python",
   "nbconvert_exporter": "python",
   "pygments_lexer": "ipython2",
   "version": "2.7.13"
  }
 },
 "nbformat": 4,
 "nbformat_minor": 2
}
